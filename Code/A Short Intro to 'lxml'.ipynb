{
 "metadata": {
  "name": ""
 },
 "nbformat": 3,
 "nbformat_minor": 0,
 "worksheets": [
  {
   "cells": [
    {
     "cell_type": "heading",
     "level": 1,
     "metadata": {},
     "source": [
      "Introduction to `lxml`"
     ]
    },
    {
     "cell_type": "heading",
     "level": 2,
     "metadata": {},
     "source": [
      "Parsing XML"
     ]
    },
    {
     "cell_type": "markdown",
     "metadata": {},
     "source": [
      "The `lxml` package for Python is a high-speed package for creating and parsing XML.  It also has some primitive web-scraping capabilities.  Let's jump right in.\n",
      "First, let's import `etree` from `lxml`.  Then define a `string` variable with some XML in it."
     ]
    },
    {
     "cell_type": "code",
     "collapsed": false,
     "input": [
      "from lxml import etree\n",
      "xml_text = \"<xml><book id='Genesis'><chapter id='1'><verse id='1'>In the beginning when God created the heavens and the earth,</verse><verse id='2'>the earth was a formless void and darkness covered the face of the deep, while a wind from God swept over the face of the waters.</verse></chapter><chapter id='2'><verse id='1'>Thus the heavens and the earth were finished, and all their multitude.</verse><verse id='2'>And on the seventh day God finished the work that he had done, and he rested on the seventh day from all the work that he had done.</verse></chapter></book></xml>\""
     ],
     "language": "python",
     "metadata": {},
     "outputs": [],
     "prompt_number": 1
    },
    {
     "cell_type": "markdown",
     "metadata": {},
     "source": [
      "The basic `class` in `lxml` is the `Element class`.  You can convert a `string` to an `etree._Element` object with the `etree.fromstring()` function."
     ]
    },
    {
     "cell_type": "code",
     "collapsed": false,
     "input": [
      "xml = etree.fromstring(xml_text)\n",
      "print(type(xml))\n",
      "print(xml)"
     ],
     "language": "python",
     "metadata": {},
     "outputs": [
      {
       "output_type": "stream",
       "stream": "stdout",
       "text": [
        "<class 'lxml.etree._Element'>\n",
        "<Element xml at 0x3bddd48>\n"
       ]
      }
     ],
     "prompt_number": 4
    },
    {
     "cell_type": "markdown",
     "metadata": {},
     "source": [
      "In order to print the actual contents of an `Element`, we need to use the `etree.tostring()` function."
     ]
    },
    {
     "cell_type": "code",
     "collapsed": false,
     "input": [
      "print(etree.tostring(xml, encoding = 'unicode'))"
     ],
     "language": "python",
     "metadata": {},
     "outputs": [
      {
       "output_type": "stream",
       "stream": "stdout",
       "text": [
        "<xml><book id=\"Genesis\"><chapter id=\"1\"><verse id=\"1\">In the beginning when God created the heavens and the earth,</verse><verse id=\"2\">the earth was a formless void and darkness covered the face of the deep, while a wind from God swept over the face of the waters.</verse></chapter><chapter id=\"2\"><verse id=\"1\">Thus the heavens and the earth were finished, and all their multitude.</verse><verse id=\"2\">And on the seventh day God finished the work that he had done, and he rested on the seventh day from all the work that he had done.</verse></chapter></book></xml>\n"
       ]
      }
     ],
     "prompt_number": 17
    },
    {
     "cell_type": "markdown",
     "metadata": {},
     "source": [
      "Notice how much more readable it is with the `pretty print` parameter set to `True`."
     ]
    },
    {
     "cell_type": "code",
     "collapsed": false,
     "input": [
      "print(etree.tostring(xml, encoding = 'unicode', pretty_print = True))"
     ],
     "language": "python",
     "metadata": {},
     "outputs": [
      {
       "output_type": "stream",
       "stream": "stdout",
       "text": [
        "<xml>\n",
        "  <book id=\"Genesis\">\n",
        "    <chapter id=\"1\">\n",
        "      <verse id=\"1\">In the beginning when God created the heavens and the earth,</verse>\n",
        "      <verse id=\"2\">the earth was a formless void and darkness covered the face of the deep, while a wind from God swept over the face of the waters.</verse>\n",
        "    </chapter>\n",
        "    <chapter id=\"2\">\n",
        "      <verse id=\"1\">Thus the heavens and the earth were finished, and all their multitude.</verse>\n",
        "      <verse id=\"2\">And on the seventh day God finished the work that he had done, and he rested on the seventh day from all the work that he had done.</verse>\n",
        "    </chapter>\n",
        "  </book>\n",
        "</xml>\n",
        "\n"
       ]
      }
     ],
     "prompt_number": 19
    },
    {
     "cell_type": "markdown",
     "metadata": {},
     "source": [
      "`Elements` are like `lists`.  Watch what we can do:"
     ]
    },
    {
     "cell_type": "code",
     "collapsed": false,
     "input": [
      "len(xml) #this is the contents <xml> tag"
     ],
     "language": "python",
     "metadata": {},
     "outputs": [
      {
       "metadata": {},
       "output_type": "pyout",
       "prompt_number": 16,
       "text": [
        "1"
       ]
      }
     ],
     "prompt_number": 16
    },
    {
     "cell_type": "code",
     "collapsed": false,
     "input": [
      "len(xml[0]) #this is the contents of the <book> tag."
     ],
     "language": "python",
     "metadata": {},
     "outputs": [
      {
       "metadata": {},
       "output_type": "pyout",
       "prompt_number": 7,
       "text": [
        "2"
       ]
      }
     ],
     "prompt_number": 7
    },
    {
     "cell_type": "code",
     "collapsed": false,
     "input": [
      "len(xml[0][0]) #this is the contents of the first <chapter> tag."
     ],
     "language": "python",
     "metadata": {},
     "outputs": [
      {
       "metadata": {},
       "output_type": "pyout",
       "prompt_number": 13,
       "text": [
        "2"
       ]
      }
     ],
     "prompt_number": 13
    },
    {
     "cell_type": "code",
     "collapsed": false,
     "input": [
      "len(xml[0][1]) #and the length of the second <chapter> tag, etc."
     ],
     "language": "python",
     "metadata": {},
     "outputs": []
    },
    {
     "cell_type": "markdown",
     "metadata": {},
     "source": [
      "To access the individual members of the list, however, we cannot just `print` them.  As we saw above, this only returns an `Element` declaration.  Instead, we have to use the `iter()` method on the `Element` and then loop through the results, using `etree.tostring` on each one."
     ]
    },
    {
     "cell_type": "code",
     "collapsed": false,
     "input": [
      "for element in xml.iter():\n",
      "    print(etree.tostring(element, encoding = 'unicode'))"
     ],
     "language": "python",
     "metadata": {},
     "outputs": [
      {
       "output_type": "stream",
       "stream": "stdout",
       "text": [
        "<xml><book id=\"Genesis\"><chapter id=\"1\"><verse id=\"1\">In the beginning when God created the heavens and the earth,</verse><verse id=\"2\">the earth was a formless void and darkness covered the face of the deep, while a wind from God swept over the face of the waters.</verse></chapter><chapter id=\"2\"><verse id=\"1\">Thus the heavens and the earth were finished, and all their multitude.</verse><verse id=\"2\">And on the seventh day God finished the work that he had done, and he rested on the seventh day from all the work that he had done.</verse></chapter></book></xml>\n",
        "<book id=\"Genesis\"><chapter id=\"1\"><verse id=\"1\">In the beginning when God created the heavens and the earth,</verse><verse id=\"2\">the earth was a formless void and darkness covered the face of the deep, while a wind from God swept over the face of the waters.</verse></chapter><chapter id=\"2\"><verse id=\"1\">Thus the heavens and the earth were finished, and all their multitude.</verse><verse id=\"2\">And on the seventh day God finished the work that he had done, and he rested on the seventh day from all the work that he had done.</verse></chapter></book>\n",
        "<chapter id=\"1\"><verse id=\"1\">In the beginning when God created the heavens and the earth,</verse><verse id=\"2\">the earth was a formless void and darkness covered the face of the deep, while a wind from God swept over the face of the waters.</verse></chapter>\n",
        "<verse id=\"1\">In the beginning when God created the heavens and the earth,</verse>\n",
        "<verse id=\"2\">the earth was a formless void and darkness covered the face of the deep, while a wind from God swept over the face of the waters.</verse>\n",
        "<chapter id=\"2\"><verse id=\"1\">Thus the heavens and the earth were finished, and all their multitude.</verse><verse id=\"2\">And on the seventh day God finished the work that he had done, and he rested on the seventh day from all the work that he had done.</verse></chapter>\n",
        "<verse id=\"1\">Thus the heavens and the earth were finished, and all their multitude.</verse>\n",
        "<verse id=\"2\">And on the seventh day God finished the work that he had done, and he rested on the seventh day from all the work that he had done.</verse>\n"
       ]
      }
     ],
     "prompt_number": 33
    },
    {
     "cell_type": "markdown",
     "metadata": {},
     "source": [
      "But look carefully at this.  Do you see anything unexpected?  Maybe it is easier to see with `pretty_print`."
     ]
    },
    {
     "cell_type": "code",
     "collapsed": false,
     "input": [
      "for element in xml.iter():\n",
      "    print(etree.tostring(element, encoding = 'unicode', pretty_print = True))"
     ],
     "language": "python",
     "metadata": {},
     "outputs": [
      {
       "output_type": "stream",
       "stream": "stdout",
       "text": [
        "<xml>\n",
        "  <book id=\"Genesis\">\n",
        "    <chapter id=\"1\">\n",
        "      <verse id=\"1\">In the beginning when God created the heavens and the earth,</verse>\n",
        "      <verse id=\"2\">the earth was a formless void and darkness covered the face of the deep, while a wind from God swept over the face of the waters.</verse>\n",
        "    </chapter>\n",
        "    <chapter id=\"2\">\n",
        "      <verse id=\"1\">Thus the heavens and the earth were finished, and all their multitude.</verse>\n",
        "      <verse id=\"2\">And on the seventh day God finished the work that he had done, and he rested on the seventh day from all the work that he had done.</verse>\n",
        "    </chapter>\n",
        "  </book>\n",
        "</xml>\n",
        "\n",
        "<book id=\"Genesis\">\n",
        "  <chapter id=\"1\">\n",
        "    <verse id=\"1\">In the beginning when God created the heavens and the earth,</verse>\n",
        "    <verse id=\"2\">the earth was a formless void and darkness covered the face of the deep, while a wind from God swept over the face of the waters.</verse>\n",
        "  </chapter>\n",
        "  <chapter id=\"2\">\n",
        "    <verse id=\"1\">Thus the heavens and the earth were finished, and all their multitude.</verse>\n",
        "    <verse id=\"2\">And on the seventh day God finished the work that he had done, and he rested on the seventh day from all the work that he had done.</verse>\n",
        "  </chapter>\n",
        "</book>\n",
        "\n",
        "<chapter id=\"1\">\n",
        "  <verse id=\"1\">In the beginning when God created the heavens and the earth,</verse>\n",
        "  <verse id=\"2\">the earth was a formless void and darkness covered the face of the deep, while a wind from God swept over the face of the waters.</verse>\n",
        "</chapter>\n",
        "\n",
        "<verse id=\"1\">In the beginning when God created the heavens and the earth,</verse>\n",
        "\n",
        "<verse id=\"2\">the earth was a formless void and darkness covered the face of the deep, while a wind from God swept over the face of the waters.</verse>\n",
        "\n",
        "<chapter id=\"2\">\n",
        "  <verse id=\"1\">Thus the heavens and the earth were finished, and all their multitude.</verse>\n",
        "  <verse id=\"2\">And on the seventh day God finished the work that he had done, and he rested on the seventh day from all the work that he had done.</verse>\n",
        "</chapter>\n",
        "\n",
        "<verse id=\"1\">Thus the heavens and the earth were finished, and all their multitude.</verse>\n",
        "\n",
        "<verse id=\"2\">And on the seventh day God finished the work that he had done, and he rested on the seventh day from all the work that he had done.</verse>\n",
        "\n"
       ]
      }
     ],
     "prompt_number": 34
    },
    {
     "cell_type": "markdown",
     "metadata": {},
     "source": [
      "Do you see it now?  Each `Element` in the iterator contains all of its sub-elements as well.  Just remember this when printing or accessing parts of the tree"
     ]
    },
    {
     "cell_type": "markdown",
     "metadata": {},
     "source": [
      "`Elements` have tags that you can get at with the `tag` method."
     ]
    },
    {
     "cell_type": "code",
     "collapsed": false,
     "input": [
      "for element in xml.iter():\n",
      "    print(element.tag)"
     ],
     "language": "python",
     "metadata": {},
     "outputs": [
      {
       "output_type": "stream",
       "stream": "stdout",
       "text": [
        "xml\n",
        "book\n",
        "chapter\n",
        "verse\n",
        "verse\n",
        "chapter\n",
        "verse\n",
        "verse\n"
       ]
      }
     ],
     "prompt_number": 39
    },
    {
     "cell_type": "markdown",
     "metadata": {},
     "source": [
      "And the attributes of the `Elements` are available on the individual `Elements` like dictionaries.  You can access these with the `etree.get()` function."
     ]
    },
    {
     "cell_type": "code",
     "collapsed": false,
     "input": [
      "for element in xml.iter():\n",
      "    print(element.tag, '==', element.get('id'))"
     ],
     "language": "python",
     "metadata": {},
     "outputs": [
      {
       "output_type": "stream",
       "stream": "stdout",
       "text": [
        "xml == None\n",
        "book == Genesis\n",
        "chapter == 1\n",
        "verse == 1\n",
        "verse == 2\n",
        "chapter == 2\n",
        "verse == 1\n",
        "verse == 2\n"
       ]
      }
     ],
     "prompt_number": 40
    },
    {
     "cell_type": "markdown",
     "metadata": {},
     "source": [
      "You can also get at these attributes with the `attrib` method.  Notice how much they look like dictionary entries."
     ]
    },
    {
     "cell_type": "code",
     "collapsed": false,
     "input": [
      "for element in xml.iter():\n",
      "    print(element.tag, element.attrib)"
     ],
     "language": "python",
     "metadata": {},
     "outputs": [
      {
       "output_type": "stream",
       "stream": "stdout",
       "text": [
        "xml {}\n",
        "book {'id': 'Genesis'}\n",
        "chapter {'id': '1'}\n",
        "verse {'id': '1'}\n",
        "verse {'id': '2'}\n",
        "chapter {'id': '2'}\n",
        "verse {'id': '1'}\n",
        "verse {'id': '2'}\n"
       ]
      }
     ],
     "prompt_number": 42
    },
    {
     "cell_type": "markdown",
     "metadata": {},
     "source": [
      "You can also pass the `iter` method the name of the tags you want to retrieve."
     ]
    },
    {
     "cell_type": "code",
     "collapsed": false,
     "input": [
      "for element in xml.iter('verse'):\n",
      "    print(element.tag, element.attrib)"
     ],
     "language": "python",
     "metadata": {},
     "outputs": [
      {
       "output_type": "stream",
       "stream": "stdout",
       "text": [
        "verse {'id': '1'}\n",
        "verse {'id': '2'}\n",
        "verse {'id': '1'}\n",
        "verse {'id': '2'}\n"
       ]
      }
     ],
     "prompt_number": 43
    },
    {
     "cell_type": "markdown",
     "metadata": {},
     "source": [
      "One thing to pay attention to is what type of object each method returns.  Check it out!"
     ]
    },
    {
     "cell_type": "code",
     "collapsed": false,
     "input": [
      "print('The `iter` method returns:', type(xml.iter()))\n",
      "print('The `tag` method returns:', type(xml.tag))\n",
      "print('The `get` method returns:', type(xml[0].get('id')))\n",
      "print('The `attrib` method returns:', type(xml[0].attrib))\n",
      "#Even though this isn't a Python `dict`, we can still access it like one.\n",
      "print(xml[0].attrib)\n",
      "print(xml[0].attrib['id'])\n",
      "print(xml[0].items())"
     ],
     "language": "python",
     "metadata": {},
     "outputs": [
      {
       "output_type": "stream",
       "stream": "stdout",
       "text": [
        "The `iter` method returns: <class 'lxml.etree.ElementDepthFirstIterator'>\n",
        "The `tag` method returns: <class 'str'>\n",
        "The `get` method returns: <class 'str'>\n",
        "The `attrib` method returns: <class 'lxml.etree._Attrib'>\n",
        "{'id': 'Genesis'}\n",
        "Genesis\n",
        "[('id', 'Genesis')]\n"
       ]
      }
     ],
     "prompt_number": 57
    },
    {
     "cell_type": "markdown",
     "metadata": {},
     "source": [
      "`Elements` also have `text`."
     ]
    },
    {
     "cell_type": "code",
     "collapsed": false,
     "input": [
      "for element in xml.iter('verse'):\n",
      "    print(element.tag, element.attrib['id'], '-', element.text)\n",
      "print('The `text` method returns:', type(xml[0][0][0].text))"
     ],
     "language": "python",
     "metadata": {},
     "outputs": [
      {
       "output_type": "stream",
       "stream": "stdout",
       "text": [
        "verse 1 - In the beginning when God created the heavens and the earth,\n",
        "verse 2 - the earth was a formless void and darkness covered the face of the deep, while a wind from God swept over the face of the waters.\n",
        "verse 1 - Thus the heavens and the earth were finished, and all their multitude.\n",
        "verse 2 - And on the seventh day God finished the work that he had done, and he rested on the seventh day from all the work that he had done.\n",
        "The `text` method returns: <class 'str'>\n"
       ]
      }
     ],
     "prompt_number": 73
    },
    {
     "cell_type": "markdown",
     "metadata": {},
     "source": [
      "You can also supports XPath searches on `Elements`."
     ]
    },
    {
     "cell_type": "code",
     "collapsed": false,
     "input": [
      "print(xml.xpath('verse'))"
     ],
     "language": "python",
     "metadata": {},
     "outputs": [
      {
       "output_type": "stream",
       "stream": "stdout",
       "text": [
        "[]\n"
       ]
      }
     ],
     "prompt_number": 87
    },
    {
     "cell_type": "markdown",
     "metadata": {},
     "source": [
      "This searches only the direct child nodes of `<xml>`, i.e., the book tag.\n",
      "There is no direct child of `<xml>` that has a verse tag.  But..."
     ]
    },
    {
     "cell_type": "code",
     "collapsed": false,
     "input": [
      "print(xml[0][0].xpath('verse'))\n",
      "#to get at all tags throughout the tree...\n",
      "print(xml.xpath('.//verse'))"
     ],
     "language": "python",
     "metadata": {},
     "outputs": [
      {
       "output_type": "stream",
       "stream": "stdout",
       "text": [
        "[<Element verse at 0x3be9248>, <Element verse at 0x3be9d88>]\n",
        "[<Element verse at 0x3be9248>, <Element verse at 0x3be9d88>, <Element verse at 0x3be9c08>, <Element verse at 0x3be9708>]\n"
       ]
      }
     ],
     "prompt_number": 88
    },
    {
     "cell_type": "markdown",
     "metadata": {},
     "source": [
      "To get at the actual content, we need to loop over the `Elements`."
     ]
    },
    {
     "cell_type": "code",
     "collapsed": false,
     "input": [
      "for verses in xml.xpath('.//verse'):\n",
      "    print(etree.tostring(verses, encoding = 'unicode'))"
     ],
     "language": "python",
     "metadata": {},
     "outputs": [
      {
       "output_type": "stream",
       "stream": "stdout",
       "text": [
        "<verse id=\"1\">In the beginning when God created the heavens and the earth,</verse>\n",
        "<verse id=\"2\">the earth was a formless void and darkness covered the face of the deep, while a wind from God swept over the face of the waters.</verse>\n",
        "<verse id=\"1\">Thus the heavens and the earth were finished, and all their multitude.</verse>\n",
        "<verse id=\"2\">And on the seventh day God finished the work that he had done, and he rested on the seventh day from all the work that he had done.</verse>\n"
       ]
      }
     ],
     "prompt_number": 86
    },
    {
     "cell_type": "markdown",
     "metadata": {},
     "source": [
      "A short introduction to the XPATH expressions in `lxml` can be found <a href='http://effbot.org/zone/element-xpath.htm'>here</a>."
     ]
    },
    {
     "cell_type": "heading",
     "level": 2,
     "metadata": {},
     "source": [
      "Scraping the web"
     ]
    },
    {
     "cell_type": "markdown",
     "metadata": {},
     "source": [
      "Another way to parse XML is with the `etree.parse` function.  Notice that it returns an `ElementTree` instead of an `Element`."
     ]
    },
    {
     "cell_type": "code",
     "collapsed": false,
     "input": [
      "from io import StringIO\n",
      "xml2 = etree.parse(StringIO(xml_text))\n",
      "print(type(xml2))\n",
      "print(etree.tostring(xml2, encoding = 'unicode', pretty_print = True))"
     ],
     "language": "python",
     "metadata": {},
     "outputs": [
      {
       "output_type": "stream",
       "stream": "stdout",
       "text": [
        "<class 'lxml.etree._ElementTree'>\n",
        "<xml>\n",
        "  <book id=\"Genesis\">\n",
        "    <chapter id=\"1\">\n",
        "      <verse id=\"1\">In the beginning when God created the heavens and the earth,</verse>\n",
        "      <verse id=\"2\">the earth was a formless void and darkness covered the face of the deep, while a wind from God swept over the face of the waters.</verse>\n",
        "    </chapter>\n",
        "    <chapter id=\"2\">\n",
        "      <verse id=\"1\">Thus the heavens and the earth were finished, and all their multitude.</verse>\n",
        "      <verse id=\"2\">And on the seventh day God finished the work that he had done, and he rested on the seventh day from all the work that he had done.</verse>\n",
        "    </chapter>\n",
        "  </book>\n",
        "</xml>\n",
        "\n"
       ]
      }
     ],
     "prompt_number": 98
    },
    {
     "cell_type": "markdown",
     "metadata": {},
     "source": [
      "In order to get an `Element` out, we need to use the `getroot` method."
     ]
    },
    {
     "cell_type": "code",
     "collapsed": false,
     "input": [
      "print(type(xml2.getroot))"
     ],
     "language": "python",
     "metadata": {},
     "outputs": [
      {
       "output_type": "stream",
       "stream": "stdout",
       "text": [
        "<class 'builtin_function_or_method'>\n"
       ]
      }
     ],
     "prompt_number": 96
    }
   ],
   "metadata": {}
  }
 ]
}