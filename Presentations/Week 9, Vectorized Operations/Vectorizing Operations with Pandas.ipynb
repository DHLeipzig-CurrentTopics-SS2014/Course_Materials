{
 "metadata": {
  "name": ""
 },
 "nbformat": 3,
 "nbformat_minor": 0,
 "worksheets": [
  {
   "cells": [
    {
     "cell_type": "heading",
     "level": 1,
     "metadata": {},
     "source": [
      "Vectorizing Operations with Pandas: Speed Galore!"
     ]
    },
    {
     "cell_type": "markdown",
     "metadata": {},
     "source": [
      "Often, when you have your data in a Pandas DataFrame or a Numpy ndarray, you want to perform some sort of operation on every cell in your data frame.  You could loop over it, and sometimes you may have to.  But you should always try to vectorize your operations since this takes advantage of the Pandas/Numpy system of (arrayed) vectors.<br>\n",
      "Let's jump right in."
     ]
    },
    {
     "cell_type": "code",
     "collapsed": false,
     "input": [
      "import pandas as pd\n",
      "import numpy as np\n",
      "#First, we create an 8x8 array of random integers.\n",
      "df = pd.DataFrame(data = np.random.randint(0, 100, size = (8,8)), index = ('a', 'b', 'c', 'd', 'e', 'f', 'g', 'h'))\n",
      "print(df) #since we are using random numbers, your array will always be different."
     ],
     "language": "python",
     "metadata": {},
     "outputs": [
      {
       "output_type": "stream",
       "stream": "stdout",
       "text": [
        "    0   1   2   3   4   5   6   7\n",
        "a  39  79  45  39  85  37  40  86\n",
        "b  91  76  82  24  21  29  77   8\n",
        "c  14  41   7   3  56  76  35  88\n",
        "d  24  91  35  79   1  85   5  99\n",
        "e  57  33  69  39   5  97  39  66\n",
        "f  78  92  91  78  96  49  17  99\n",
        "g  39  10  45  94  48  90  68  14\n",
        "h  42   6  12  49  18  89  98  62\n",
        "\n",
        "[8 rows x 8 columns]\n"
       ]
      }
     ],
     "prompt_number": 14
    },
    {
     "cell_type": "markdown",
     "metadata": {},
     "source": [
      "Now, as mentioned in the introduction, if we wanted to multiply every cell by 2, we could loop through each row and then each column of the DataFrame, multiply everything by two, and then return the result.  Something like this."
     ]
    },
    {
     "cell_type": "code",
     "collapsed": false,
     "input": [
      "def times_2():\n",
      "    global df2\n",
      "    val_dict = {}\n",
      "    for index, values in df.iterrows():\n",
      "        val_dict[index] = []\n",
      "        for value in values:\n",
      "            val_dict[index].append(value * 2)\n",
      "    df2 = pd.DataFrame(val_dict).T # transposes the df since dictionary elements are read as columns instead of rows.\n",
      "    df2.index = df.index\n",
      "    df2.columns = df.columns\n",
      "    return df2\n",
      "times_2()\n",
      "print(df2)"
     ],
     "language": "python",
     "metadata": {},
     "outputs": [
      {
       "output_type": "stream",
       "stream": "stdout",
       "text": [
        "     0    1    2    3    4    5    6    7\n",
        "a   78  158   90   78  170   74   80  172\n",
        "b  182  152  164   48   42   58  154   16\n",
        "c   28   82   14    6  112  152   70  176\n",
        "d   48  182   70  158    2  170   10  198\n",
        "e  114   66  138   78   10  194   78  132\n",
        "f  156  184  182  156  192   98   34  198\n",
        "g   78   20   90  188   96  180  136   28\n",
        "h   84   12   24   98   36  178  196  124\n",
        "\n",
        "[8 rows x 8 columns]\n"
       ]
      }
     ],
     "prompt_number": 15
    },
    {
     "cell_type": "markdown",
     "metadata": {},
     "source": [
      "But this is not a very efficient way to perform this operation.  Let's take a look at an easier and faster way to do this: vectorizing."
     ]
    },
    {
     "cell_type": "code",
     "collapsed": false,
     "input": [
      "df3 = df * 2\n",
      "print(df)\n",
      "print(df3)\n",
      "print(df3 == df2) # element-wise comparison\n",
      "print(df3.all() == df2.all()) # column-wise comparison\n",
      "print(df3.all(axis = 1) == df2.all(axis = 1)) # row-wise comparison"
     ],
     "language": "python",
     "metadata": {},
     "outputs": [
      {
       "output_type": "stream",
       "stream": "stdout",
       "text": [
        "    0   1   2   3   4   5   6   7\n",
        "a  39  79  45  39  85  37  40  86\n",
        "b  91  76  82  24  21  29  77   8\n",
        "c  14  41   7   3  56  76  35  88\n",
        "d  24  91  35  79   1  85   5  99\n",
        "e  57  33  69  39   5  97  39  66\n",
        "f  78  92  91  78  96  49  17  99\n",
        "g  39  10  45  94  48  90  68  14\n",
        "h  42   6  12  49  18  89  98  62\n",
        "\n",
        "[8 rows x 8 columns]\n",
        "     0    1    2    3    4    5    6    7\n",
        "a   78  158   90   78  170   74   80  172\n",
        "b  182  152  164   48   42   58  154   16\n",
        "c   28   82   14    6  112  152   70  176\n",
        "d   48  182   70  158    2  170   10  198\n",
        "e  114   66  138   78   10  194   78  132\n",
        "f  156  184  182  156  192   98   34  198\n",
        "g   78   20   90  188   96  180  136   28\n",
        "h   84   12   24   98   36  178  196  124\n",
        "\n",
        "[8 rows x 8 columns]\n",
        "      0     1     2     3     4     5     6     7\n",
        "a  True  True  True  True  True  True  True  True\n",
        "b  True  True  True  True  True  True  True  True\n",
        "c  True  True  True  True  True  True  True  True\n",
        "d  True  True  True  True  True  True  True  True\n",
        "e  True  True  True  True  True  True  True  True\n",
        "f  True  True  True  True  True  True  True  True\n",
        "g  True  True  True  True  True  True  True  True\n",
        "h  True  True  True  True  True  True  True  True\n",
        "\n",
        "[8 rows x 8 columns]\n",
        "0    True\n",
        "1    True\n",
        "2    True\n",
        "3    True\n",
        "4    True\n",
        "5    True\n",
        "6    True\n",
        "7    True\n",
        "dtype: bool\n",
        "a    True\n",
        "b    True\n",
        "c    True\n",
        "d    True\n",
        "e    True\n",
        "f    True\n",
        "g    True\n",
        "h    True\n",
        "dtype: bool\n"
       ]
      }
     ],
     "prompt_number": 16
    },
    {
     "cell_type": "markdown",
     "metadata": {},
     "source": [
      "Not only does the code take much less time to write, it also takes much less time to run.  Check it out."
     ]
    },
    {
     "cell_type": "code",
     "collapsed": false,
     "input": [
      "from timeit import timeit\n",
      "print(timeit('times_2()', 'from __main__ import df, times_2', number = 1000))\n",
      "print(timeit('df * 2', 'from __main__ import df', number = 1000))"
     ],
     "language": "python",
     "metadata": {},
     "outputs": [
      {
       "output_type": "stream",
       "stream": "stdout",
       "text": [
        "0.7972125880005478\n",
        "0.04530410900042625\n"
       ]
      }
     ],
     "prompt_number": 17
    },
    {
     "cell_type": "markdown",
     "metadata": {},
     "source": [
      "Look at the difference! On my computer, vectorizing the operation (the second one) is about 19x faster than the loop.  This is why you should always try to vectorize your operations if you have a large data set.<br>\n",
      "You can also perform arithmetic operations between objects in a vectorized manner."
     ]
    },
    {
     "cell_type": "code",
     "collapsed": false,
     "input": [
      "print(df + df3)\n",
      "df4 = df + df3\n",
      "print(type(df4.ix[0,0]))\n",
      "print(df - df3)\n",
      "print(-df)\n",
      "print(df * df3)\n",
      "print(df / df3)\n",
      "print(1//2)"
     ],
     "language": "python",
     "metadata": {},
     "outputs": [
      {
       "output_type": "stream",
       "stream": "stdout",
       "text": [
        "     0    1    2    3    4    5    6    7\n",
        "a  117  237  135  117  255  111  120  258\n",
        "b  273  228  246   72   63   87  231   24\n",
        "c   42  123   21    9  168  228  105  264\n",
        "d   72  273  105  237    3  255   15  297\n",
        "e  171   99  207  117   15  291  117  198\n",
        "f  234  276  273  234  288  147   51  297\n",
        "g  117   30  135  282  144  270  204   42\n",
        "h  126   18   36  147   54  267  294  186\n",
        "\n",
        "[8 rows x 8 columns]\n",
        "<class 'numpy.int64'>\n",
        "    0   1   2   3   4   5   6   7\n",
        "a -39 -79 -45 -39 -85 -37 -40 -86\n",
        "b -91 -76 -82 -24 -21 -29 -77  -8\n",
        "c -14 -41  -7  -3 -56 -76 -35 -88\n",
        "d -24 -91 -35 -79  -1 -85  -5 -99\n",
        "e -57 -33 -69 -39  -5 -97 -39 -66\n",
        "f -78 -92 -91 -78 -96 -49 -17 -99\n",
        "g -39 -10 -45 -94 -48 -90 -68 -14\n",
        "h -42  -6 -12 -49 -18 -89 -98 -62\n",
        "\n",
        "[8 rows x 8 columns]\n",
        "    0   1   2   3   4   5   6   7\n",
        "a -39 -79 -45 -39 -85 -37 -40 -86\n",
        "b -91 -76 -82 -24 -21 -29 -77  -8\n",
        "c -14 -41  -7  -3 -56 -76 -35 -88\n",
        "d -24 -91 -35 -79  -1 -85  -5 -99\n",
        "e -57 -33 -69 -39  -5 -97 -39 -66\n",
        "f -78 -92 -91 -78 -96 -49 -17 -99\n",
        "g -39 -10 -45 -94 -48 -90 -68 -14\n",
        "h -42  -6 -12 -49 -18 -89 -98 -62\n",
        "\n",
        "[8 rows x 8 columns]\n",
        "       0      1      2      3      4      5      6      7\n",
        "a   3042  12482   4050   3042  14450   2738   3200  14792\n",
        "b  16562  11552  13448   1152    882   1682  11858    128\n",
        "c    392   3362     98     18   6272  11552   2450  15488\n",
        "d   1152  16562   2450  12482      2  14450     50  19602\n",
        "e   6498   2178   9522   3042     50  18818   3042   8712\n",
        "f  12168  16928  16562  12168  18432   4802    578  19602\n",
        "g   3042    200   4050  17672   4608  16200   9248    392\n",
        "h   3528     72    288   4802    648  15842  19208   7688\n",
        "\n",
        "[8 rows x 8 columns]\n",
        "     0    1    2    3    4    5    6    7\n",
        "a  0.5  0.5  0.5  0.5  0.5  0.5  0.5  0.5\n",
        "b  0.5  0.5  0.5  0.5  0.5  0.5  0.5  0.5\n",
        "c  0.5  0.5  0.5  0.5  0.5  0.5  0.5  0.5\n",
        "d  0.5  0.5  0.5  0.5  0.5  0.5  0.5  0.5\n",
        "e  0.5  0.5  0.5  0.5  0.5  0.5  0.5  0.5\n",
        "f  0.5  0.5  0.5  0.5  0.5  0.5  0.5  0.5\n",
        "g  0.5  0.5  0.5  0.5  0.5  0.5  0.5  0.5\n",
        "h  0.5  0.5  0.5  0.5  0.5  0.5  0.5  0.5\n",
        "\n",
        "[8 rows x 8 columns]\n",
        "0\n"
       ]
      }
     ],
     "prompt_number": 23
    },
    {
     "cell_type": "markdown",
     "metadata": {},
     "source": [
      "But what happens with exponents?"
     ]
    },
    {
     "cell_type": "code",
     "collapsed": false,
     "input": [
      "print(df ** df3)\n",
      "print(type(df.ix[0,0]))"
     ],
     "language": "python",
     "metadata": {},
     "outputs": [
      {
       "output_type": "stream",
       "stream": "stdout",
       "text": [
        "                     0                    1                    2  \\\n",
        "a -9223372036854775808 -9223372036854775808 -9223372036854775808   \n",
        "b -9223372036854775808 -9223372036854775808 -9223372036854775808   \n",
        "c -9223372036854775808 -9223372036854775808         678223072849   \n",
        "d -9223372036854775808 -9223372036854775808 -9223372036854775808   \n",
        "e -9223372036854775808 -9223372036854775808 -9223372036854775808   \n",
        "f -9223372036854775808 -9223372036854775808 -9223372036854775808   \n",
        "g -9223372036854775808 -9223372036854775808 -9223372036854775808   \n",
        "h -9223372036854775808           2176782336 -9223372036854775808   \n",
        "\n",
        "                     3                    4                    5  \\\n",
        "a -9223372036854775808 -9223372036854775808 -9223372036854775808   \n",
        "b -9223372036854775808 -9223372036854775808 -9223372036854775808   \n",
        "c                  729 -9223372036854775808 -9223372036854775808   \n",
        "d -9223372036854775808                    1 -9223372036854775808   \n",
        "e -9223372036854775808              9765625 -9223372036854775808   \n",
        "f -9223372036854775808 -9223372036854775808 -9223372036854775808   \n",
        "g -9223372036854775808 -9223372036854775808 -9223372036854775808   \n",
        "h -9223372036854775808 -9223372036854775808 -9223372036854775808   \n",
        "\n",
        "                     6                    7  \n",
        "a -9223372036854775808 -9223372036854775808  \n",
        "b -9223372036854775808      281474976710656  \n",
        "c -9223372036854775808 -9223372036854775808  \n",
        "d              9765625 -9223372036854775808  \n",
        "e -9223372036854775808 -9223372036854775808  \n",
        "f -9223372036854775808 -9223372036854775808  \n",
        "g -9223372036854775808 -9223372036854775808  \n",
        "h -9223372036854775808 -9223372036854775808  \n",
        "\n",
        "[8 rows x 8 columns]\n",
        "<class 'numpy.int64'>\n"
       ]
      }
     ],
     "prompt_number": 24
    },
    {
     "cell_type": "markdown",
     "metadata": {},
     "source": [
      "The problem is that we have reached the limit of the numpy.int64 object.  We can get a larger range of number if we switch to the numpy.float64 object type.<br>\n",
      "Note, if you have a Unix based system, then you can also use the numpy.float128 type.  As far as I know, this is not available on Windows systems."
     ]
    },
    {
     "cell_type": "code",
     "collapsed": true,
     "input": [
      "df_exp = np.float64(df) ** df3 #Notice that we only need to invoke float64 on one of the objects and it affects our answer.\n",
      "print(df_exp)\n",
      "# and to check and make sure our answers are correct:\n",
      "for x in range(8):\n",
      "    for y in range(8):\n",
      "        print(np.float64(df.ix[x, y]) ** df3.ix[x, y] == df_exp.ix[x, y])"
     ],
     "language": "python",
     "metadata": {},
     "outputs": [
      {
       "output_type": "stream",
       "stream": "stdout",
       "text": [
        "               0              1              2              3              4  \\\n",
        "a  1.267767e+124  6.684677e+299  6.153557e+148  1.267767e+124            inf   \n",
        "b            inf  7.650081e+285            inf   1.778851e+66   3.413582e+55   \n",
        "c   1.234767e+32  1.771235e+132   6.782231e+11   7.290000e+02  6.266990e+195   \n",
        "d   1.778851e+66            inf  1.215523e+108  6.684677e+299   1.000000e+00   \n",
        "e  1.478201e+200  1.666940e+100  5.769983e+253  1.267767e+124   9.765625e+06   \n",
        "f  1.468108e+295            inf            inf  1.468108e+295            inf   \n",
        "g  1.267767e+124   1.000000e+20  6.153557e+148            inf  2.507026e+161   \n",
        "h  2.253930e+136   2.176782e+09   7.949685e+25  4.357284e+165   1.548140e+45   \n",
        "\n",
        "               5              6              7  \n",
        "a  1.114109e+116  1.461502e+128            inf  \n",
        "b   6.593012e+84  3.308047e+290   2.814750e+14  \n",
        "c  7.650081e+285  1.215523e+108            inf  \n",
        "d            inf   9.765625e+06            inf  \n",
        "e            inf  1.267767e+124  1.512863e+240  \n",
        "f  4.357284e+165   6.843265e+41            inf  \n",
        "g            inf  1.664225e+249   1.234767e+32  \n",
        "h            inf            inf  1.805384e+222  \n",
        "\n",
        "[8 rows x 8 columns]\n",
        "True\n",
        "True\n",
        "True\n",
        "True\n",
        "True\n",
        "True\n",
        "True\n",
        "True\n",
        "True\n",
        "True\n",
        "True\n",
        "True\n",
        "True\n",
        "True\n",
        "True\n",
        "True\n",
        "True\n",
        "True\n",
        "True\n",
        "True\n",
        "True\n",
        "True\n",
        "True\n",
        "True\n",
        "True\n",
        "True\n",
        "True\n",
        "True\n",
        "True\n",
        "True\n",
        "True\n",
        "True\n",
        "True\n",
        "True\n",
        "True\n",
        "True\n",
        "True\n",
        "True\n",
        "True\n",
        "True\n",
        "True\n",
        "True\n",
        "True\n",
        "True\n",
        "True\n",
        "True\n",
        "True\n",
        "True\n",
        "True\n",
        "True\n",
        "True\n",
        "True\n",
        "True\n",
        "True\n",
        "True\n",
        "True\n",
        "True\n",
        "True\n",
        "True\n",
        "True\n",
        "True\n",
        "True\n",
        "True\n",
        "True\n"
       ]
      }
     ],
     "prompt_number": 27
    },
    {
     "cell_type": "markdown",
     "metadata": {},
     "source": [
      "If we want to apply a function to each column of a DataFrame, we can simply call the method.<br>\n",
      "If, however, we want to apply it row-wise, we need to call the apply method on the df."
     ]
    },
    {
     "cell_type": "code",
     "collapsed": false,
     "input": [
      "print(np.mean(df)) #This applies column-wise.\n",
      "print('Vectorized function takes %s seconds' % timeit('np.mean(df)', 'from __main__ import df, np', number = 1000))\n",
      "print(df.apply(np.mean, axis = 1)) #This applies the function row-wise.\n",
      "print('Apply method takes %s seconds' % timeit('df.apply(np.mean, axis = 1)', 'from __main__ import df, np', number = 1000))"
     ],
     "language": "python",
     "metadata": {},
     "outputs": [
      {
       "output_type": "stream",
       "stream": "stdout",
       "text": [
        "0    48.000\n",
        "1    53.500\n",
        "2    48.250\n",
        "3    50.625\n",
        "4    41.250\n",
        "5    69.000\n",
        "6    47.375\n",
        "7    65.250\n",
        "dtype: float64\n",
        "Vectorized function takes 0.09243247999984305 seconds"
       ]
      },
      {
       "output_type": "stream",
       "stream": "stdout",
       "text": [
        "\n",
        "a    56.250\n",
        "b    51.000\n",
        "c    40.000\n",
        "d    52.375\n",
        "e    50.625\n",
        "f    75.000\n",
        "g    51.000\n",
        "h    47.000\n",
        "dtype: float64\n",
        "Apply method takes 0.8726383650009666 seconds"
       ]
      },
      {
       "output_type": "stream",
       "stream": "stdout",
       "text": [
        "\n"
       ]
      }
     ],
     "prompt_number": 28
    },
    {
     "cell_type": "markdown",
     "metadata": {},
     "source": [
      "Notice how much longer the apply method takes.  So, unless you really have to do things row-wise, simply vectorize your operations."
     ]
    },
    {
     "cell_type": "markdown",
     "metadata": {},
     "source": [
      "You can also apply a Pandas Series (or even scalar values) to a DataFrame element-wise."
     ]
    },
    {
     "cell_type": "code",
     "collapsed": false,
     "input": [
      "s = pd.Series(np.random.randint(0, 8, size = 8))\n",
      "print(s)\n",
      "print(df)\n",
      "print(df * s) #notice this applies the Series row-wise, not column-wise.\n",
      "print(df * 5)"
     ],
     "language": "python",
     "metadata": {},
     "outputs": [
      {
       "output_type": "stream",
       "stream": "stdout",
       "text": [
        "0    3\n",
        "1    6\n",
        "2    6\n",
        "3    3\n",
        "4    4\n",
        "5    1\n",
        "6    1\n",
        "7    4\n",
        "dtype: int64\n",
        "    0   1   2   3   4   5   6   7\n",
        "a  39  79  45  39  85  37  40  86\n",
        "b  91  76  82  24  21  29  77   8\n",
        "c  14  41   7   3  56  76  35  88\n",
        "d  24  91  35  79   1  85   5  99\n",
        "e  57  33  69  39   5  97  39  66\n",
        "f  78  92  91  78  96  49  17  99\n",
        "g  39  10  45  94  48  90  68  14\n",
        "h  42   6  12  49  18  89  98  62\n",
        "\n",
        "[8 rows x 8 columns]\n",
        "     0    1    2    3    4   5   6    7\n",
        "a  117  474  270  117  340  37  40  344\n",
        "b  273  456  492   72   84  29  77   32\n",
        "c   42  246   42    9  224  76  35  352\n",
        "d   72  546  210  237    4  85   5  396\n",
        "e  171  198  414  117   20  97  39  264\n",
        "f  234  552  546  234  384  49  17  396\n",
        "g  117   60  270  282  192  90  68   56\n",
        "h  126   36   72  147   72  89  98  248\n",
        "\n",
        "[8 rows x 8 columns]\n",
        "     0    1    2    3    4    5    6    7\n",
        "a  195  395  225  195  425  185  200  430\n",
        "b  455  380  410  120  105  145  385   40\n",
        "c   70  205   35   15  280  380  175  440\n",
        "d  120  455  175  395    5  425   25  495\n",
        "e  285  165  345  195   25  485  195  330\n",
        "f  390  460  455  390  480  245   85  495\n",
        "g  195   50  225  470  240  450  340   70\n",
        "h  210   30   60  245   90  445  490  310\n",
        "\n",
        "[8 rows x 8 columns]\n"
       ]
      }
     ],
     "prompt_number": 29
    },
    {
     "cell_type": "markdown",
     "metadata": {},
     "source": [
      "And notice what happens if your Series (or DataFrame) is a different size than your original."
     ]
    },
    {
     "cell_type": "code",
     "collapsed": false,
     "input": [
      "s2 = pd.Series(np.random.randint(0, 8, size = 3))\n",
      "print(s2)\n",
      "print(df)\n",
      "print(df * s2)"
     ],
     "language": "python",
     "metadata": {},
     "outputs": [
      {
       "output_type": "stream",
       "stream": "stdout",
       "text": [
        "0    7\n",
        "1    5\n",
        "2    7\n",
        "dtype: int64\n",
        "    0   1   2   3   4   5   6   7\n",
        "a  39  79  45  39  85  37  40  86\n",
        "b  91  76  82  24  21  29  77   8\n",
        "c  14  41   7   3  56  76  35  88\n",
        "d  24  91  35  79   1  85   5  99\n",
        "e  57  33  69  39   5  97  39  66\n",
        "f  78  92  91  78  96  49  17  99\n",
        "g  39  10  45  94  48  90  68  14\n",
        "h  42   6  12  49  18  89  98  62\n",
        "\n",
        "[8 rows x 8 columns]\n",
        "     0    1    2   3   4   5   6   7\n",
        "a  273  395  315 NaN NaN NaN NaN NaN\n",
        "b  637  380  574 NaN NaN NaN NaN NaN\n",
        "c   98  205   49 NaN NaN NaN NaN NaN\n",
        "d  168  455  245 NaN NaN NaN NaN NaN\n",
        "e  399  165  483 NaN NaN NaN NaN NaN\n",
        "f  546  460  637 NaN NaN NaN NaN NaN\n",
        "g  273   50  315 NaN NaN NaN NaN NaN\n",
        "h  294   30   84 NaN NaN NaN NaN NaN\n",
        "\n",
        "[8 rows x 8 columns]\n"
       ]
      }
     ],
     "prompt_number": 30
    },
    {
     "cell_type": "markdown",
     "metadata": {},
     "source": [
      "Now that you have an idea of how vectorization works, it's your turn.<br>\n",
      "Create two 20x20 DataFrames and fill them with random integers between 0 and 50.<br>\n",
      "Now find the differences in the means of the rows of the DataFrames.  So you should print out a Series that shows, e.g., the mean values of row 1 of DataFrame 1 minus the mean of the values of row 1 of DataFrame 2.  The Series should be 20 elements long."
     ]
    },
    {
     "cell_type": "code",
     "collapsed": false,
     "input": [
      "#Insert your code here"
     ],
     "language": "python",
     "metadata": {},
     "outputs": []
    },
    {
     "cell_type": "markdown",
     "metadata": {},
     "source": [
      "For your week 5 homework, you constructed a term-document matrix for several books.  I want you to take this term-document matrix (__NOT THE TF-IDF MATRIX__) and perform the following statistical operation on it:<br>\n",
      "Calculate the probability (p) of each term within each document.  In this case, p = c/N, where c == the number of times the word occurs in the text and N == the total number of words in the text.  Your result should be a matrix of the same size as the original term-document matrix."
     ]
    },
    {
     "cell_type": "code",
     "collapsed": false,
     "input": [
      "#Insert your code here."
     ],
     "language": "python",
     "metadata": {},
     "outputs": []
    },
    {
     "cell_type": "markdown",
     "metadata": {},
     "source": [
      "For your week 6 homework, you calculated a co-occurrence matrix for several of the above-mentioned texts.  Now I want you to use these matrices along with the term-document matrices mentioned above to calculate the probability (p2) that two words co-occur given that the target word occurs.<br>\n",
      "In this case, p2 = c12/c1, where c12 == the number of co-occurrences of word1 with word 2 and c1 == the number of times that word1 (the target word) occurs.  The result should be a matrix for each document of the same size as the original matrix.<br>\n",
      "Your code should also produce output files that I can produce myself and check.  Don't worry about pushing your output files to Github.  If your code works, I should be able to reproduce them myself.<br>\n",
      "__NB: I expect this to be difficult.  Make sure that you look at your results to make sure that they make sense.  E.g., if you get values here (or in the previous activity) that are more than 1.0 or less than 0.0, something is wrong.  Figure out what.__"
     ]
    },
    {
     "cell_type": "code",
     "collapsed": false,
     "input": [
      "#Insert your code here."
     ],
     "language": "python",
     "metadata": {},
     "outputs": []
    }
   ],
   "metadata": {}
  }
 ]
}