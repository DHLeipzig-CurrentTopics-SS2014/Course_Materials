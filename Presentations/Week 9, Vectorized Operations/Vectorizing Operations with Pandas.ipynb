{
 "metadata": {
  "name": ""
 },
 "nbformat": 3,
 "nbformat_minor": 0,
 "worksheets": [
  {
   "cells": [
    {
     "cell_type": "heading",
     "level": 1,
     "metadata": {},
     "source": [
      "Vectorizing Operations with Pandas: Speed Galore!"
     ]
    },
    {
     "cell_type": "markdown",
     "metadata": {},
     "source": [
      "Often, when you have your data in a Pandas DataFrame or a Numpy ndarray, you want to perform some sort of operation on every cell in your data frame.  You could loop over it, and sometimes you may have to.  But you should always try to vectorize your operations since this takes advantage of the Pandas/Numpy system of (arrayed) vectors.<br>\n",
      "Let's jump right in."
     ]
    },
    {
     "cell_type": "code",
     "collapsed": false,
     "input": [
      "import pandas as pd\n",
      "import numpy as np\n",
      "#First, we create an 8x8 array of random integers.\n",
      "df = pd.DataFrame(data = np.random.randint(0, 100, size = (8,8)), index = ('a', 'b', 'c', 'd', 'e', 'f', 'g', 'h'))\n",
      "print(df) #since we are using random numbers, your array will always be different."
     ],
     "language": "python",
     "metadata": {},
     "outputs": [
      {
       "output_type": "stream",
       "stream": "stdout",
       "text": [
        "    0   1   2   3   4   5   6   7\n",
        "a   6  12  81  39  93  26  90  19\n",
        "b  95  36   1  24  52  95  38  64\n",
        "c  30  27  46  14  27  33  64  86\n",
        "d  62  63  32  76  83  49  89  95\n",
        "e  25  63  95  61  92  90  57  49\n",
        "f  14  53  78  49   3  26  94  63\n",
        "g  83  75  58  93  92  35  43   2\n",
        "h   2  40  33  67  31  10  20   1\n",
        "\n",
        "[8 rows x 8 columns]\n"
       ]
      }
     ],
     "prompt_number": 1
    },
    {
     "cell_type": "markdown",
     "metadata": {},
     "source": [
      "Now, as mentioned in the introduction, if we wanted to multiply every cell by 2, we could loop through each row and then each column of the DataFrame, multiply everything by two, and then return the result.  Something like this."
     ]
    },
    {
     "cell_type": "code",
     "collapsed": false,
     "input": [
      "def times_2():\n",
      "    global df2\n",
      "    val_dict = {}\n",
      "    for index, values in df.iterrows():\n",
      "        val_dict[index] = []\n",
      "        for value in values:\n",
      "            val_dict[index].append(value * 2)\n",
      "    df2 = pd.DataFrame(val_dict).T # transposes the df since dictionary elements are read as columns instead of rows.\n",
      "    df2.index = df.index\n",
      "    df2.columns = df.columns\n",
      "    return df2\n",
      "times_2()\n",
      "print(df2)"
     ],
     "language": "python",
     "metadata": {},
     "outputs": [
      {
       "output_type": "stream",
       "stream": "stdout",
       "text": [
        "     0    1    2    3    4    5    6    7\n",
        "a   12   24  162   78  186   52  180   38\n",
        "b  190   72    2   48  104  190   76  128\n",
        "c   60   54   92   28   54   66  128  172\n",
        "d  124  126   64  152  166   98  178  190\n",
        "e   50  126  190  122  184  180  114   98\n",
        "f   28  106  156   98    6   52  188  126\n",
        "g  166  150  116  186  184   70   86    4\n",
        "h    4   80   66  134   62   20   40    2\n",
        "\n",
        "[8 rows x 8 columns]\n"
       ]
      }
     ],
     "prompt_number": 2
    },
    {
     "cell_type": "markdown",
     "metadata": {},
     "source": [
      "But this is not a very efficient way to perform this operation.  Let's take a look at an easier and faster way to do this: vectorizing."
     ]
    },
    {
     "cell_type": "code",
     "collapsed": false,
     "input": [
      "df3 = df * 2\n",
      "print(df)\n",
      "print(df3)\n",
      "print(df3 == df2) # element-wise comparison\n",
      "print(df3.all() == df2.all()) # column-wise comparison\n",
      "print(df3.all(axis = 1) == df2.all(axis = 1)) # row-wise comparison"
     ],
     "language": "python",
     "metadata": {},
     "outputs": [
      {
       "output_type": "stream",
       "stream": "stdout",
       "text": [
        "    0   1   2   3   4   5   6   7\n",
        "a   6  12  81  39  93  26  90  19\n",
        "b  95  36   1  24  52  95  38  64\n",
        "c  30  27  46  14  27  33  64  86\n",
        "d  62  63  32  76  83  49  89  95\n",
        "e  25  63  95  61  92  90  57  49\n",
        "f  14  53  78  49   3  26  94  63\n",
        "g  83  75  58  93  92  35  43   2\n",
        "h   2  40  33  67  31  10  20   1\n",
        "\n",
        "[8 rows x 8 columns]\n",
        "     0    1    2    3    4    5    6    7\n",
        "a   12   24  162   78  186   52  180   38\n",
        "b  190   72    2   48  104  190   76  128\n",
        "c   60   54   92   28   54   66  128  172\n",
        "d  124  126   64  152  166   98  178  190\n",
        "e   50  126  190  122  184  180  114   98\n",
        "f   28  106  156   98    6   52  188  126\n",
        "g  166  150  116  186  184   70   86    4\n",
        "h    4   80   66  134   62   20   40    2\n",
        "\n",
        "[8 rows x 8 columns]\n",
        "      0     1     2     3     4     5     6     7\n",
        "a  True  True  True  True  True  True  True  True\n",
        "b  True  True  True  True  True  True  True  True\n",
        "c  True  True  True  True  True  True  True  True\n",
        "d  True  True  True  True  True  True  True  True\n",
        "e  True  True  True  True  True  True  True  True\n",
        "f  True  True  True  True  True  True  True  True\n",
        "g  True  True  True  True  True  True  True  True\n",
        "h  True  True  True  True  True  True  True  True\n",
        "\n",
        "[8 rows x 8 columns]\n",
        "0    True\n",
        "1    True\n",
        "2    True\n",
        "3    True\n",
        "4    True\n",
        "5    True\n",
        "6    True\n",
        "7    True\n",
        "dtype: bool\n",
        "a    True\n",
        "b    True\n",
        "c    True\n",
        "d    True\n",
        "e    True\n",
        "f    True\n",
        "g    True\n",
        "h    True\n",
        "dtype: bool\n"
       ]
      }
     ],
     "prompt_number": 3
    },
    {
     "cell_type": "markdown",
     "metadata": {},
     "source": [
      "Not only does the code take much less time to write, it also takes much less time to run.  Check it out."
     ]
    },
    {
     "cell_type": "code",
     "collapsed": false,
     "input": [
      "from timeit import timeit\n",
      "print(timeit('times_2()', 'from __main__ import df, times_2', number = 1000))\n",
      "print(timeit('df * 2', 'from __main__ import df', number = 1000))"
     ],
     "language": "python",
     "metadata": {},
     "outputs": [
      {
       "output_type": "stream",
       "stream": "stdout",
       "text": [
        "1.101157936999698\n",
        "0.04737983099948906"
       ]
      },
      {
       "output_type": "stream",
       "stream": "stdout",
       "text": [
        "\n"
       ]
      }
     ],
     "prompt_number": 4
    },
    {
     "cell_type": "markdown",
     "metadata": {},
     "source": [
      "Look at the difference! On my computer, vectorizing the operation (the second one) is about 19x faster than the loop.  This is why you should always try to vectorize your operations if you have a large data set.<br>\n",
      "You can also perform arithmetic operations between objects in a vectorized manner."
     ]
    },
    {
     "cell_type": "code",
     "collapsed": false,
     "input": [
      "print(df + df3)\n",
      "df4 = df + df3\n",
      "print(type(df4.ix[0,0]))\n",
      "print(df - df3)\n",
      "print(-df)\n",
      "print(df * df3)\n",
      "print(df / df3)\n",
      "print(1//2)"
     ],
     "language": "python",
     "metadata": {},
     "outputs": [
      {
       "output_type": "stream",
       "stream": "stdout",
       "text": [
        "     0    1    2    3    4    5    6    7\n",
        "a   18   36  243  117  279   78  270   57\n",
        "b  285  108    3   72  156  285  114  192\n",
        "c   90   81  138   42   81   99  192  258\n",
        "d  186  189   96  228  249  147  267  285\n",
        "e   75  189  285  183  276  270  171  147\n",
        "f   42  159  234  147    9   78  282  189\n",
        "g  249  225  174  279  276  105  129    6\n",
        "h    6  120   99  201   93   30   60    3\n",
        "\n",
        "[8 rows x 8 columns]\n",
        "<class 'numpy.int64'>\n",
        "    0   1   2   3   4   5   6   7\n",
        "a  -6 -12 -81 -39 -93 -26 -90 -19\n",
        "b -95 -36  -1 -24 -52 -95 -38 -64\n",
        "c -30 -27 -46 -14 -27 -33 -64 -86\n",
        "d -62 -63 -32 -76 -83 -49 -89 -95\n",
        "e -25 -63 -95 -61 -92 -90 -57 -49\n",
        "f -14 -53 -78 -49  -3 -26 -94 -63\n",
        "g -83 -75 -58 -93 -92 -35 -43  -2\n",
        "h  -2 -40 -33 -67 -31 -10 -20  -1\n",
        "\n",
        "[8 rows x 8 columns]\n",
        "    0   1   2   3   4   5   6   7\n",
        "a  -6 -12 -81 -39 -93 -26 -90 -19\n",
        "b -95 -36  -1 -24 -52 -95 -38 -64\n",
        "c -30 -27 -46 -14 -27 -33 -64 -86\n",
        "d -62 -63 -32 -76 -83 -49 -89 -95\n",
        "e -25 -63 -95 -61 -92 -90 -57 -49\n",
        "f -14 -53 -78 -49  -3 -26 -94 -63\n",
        "g -83 -75 -58 -93 -92 -35 -43  -2\n",
        "h  -2 -40 -33 -67 -31 -10 -20  -1\n",
        "\n",
        "[8 rows x 8 columns]\n",
        "       0      1      2      3      4      5      6      7\n",
        "a     72    288  13122   3042  17298   1352  16200    722\n",
        "b  18050   2592      2   1152   5408  18050   2888   8192\n",
        "c   1800   1458   4232    392   1458   2178   8192  14792\n",
        "d   7688   7938   2048  11552  13778   4802  15842  18050\n",
        "e   1250   7938  18050   7442  16928  16200   6498   4802\n",
        "f    392   5618  12168   4802     18   1352  17672   7938\n",
        "g  13778  11250   6728  17298  16928   2450   3698      8\n",
        "h      8   3200   2178   8978   1922    200    800      2\n",
        "\n",
        "[8 rows x 8 columns]\n",
        "     0    1    2    3    4    5    6    7\n",
        "a  0.5  0.5  0.5  0.5  0.5  0.5  0.5  0.5\n",
        "b  0.5  0.5  0.5  0.5  0.5  0.5  0.5  0.5\n",
        "c  0.5  0.5  0.5  0.5  0.5  0.5  0.5  0.5\n",
        "d  0.5  0.5  0.5  0.5  0.5  0.5  0.5  0.5\n",
        "e  0.5  0.5  0.5  0.5  0.5  0.5  0.5  0.5\n",
        "f  0.5  0.5  0.5  0.5  0.5  0.5  0.5  0.5\n",
        "g  0.5  0.5  0.5  0.5  0.5  0.5  0.5  0.5\n",
        "h  0.5  0.5  0.5  0.5  0.5  0.5  0.5  0.5\n",
        "\n",
        "[8 rows x 8 columns]\n",
        "0\n"
       ]
      }
     ],
     "prompt_number": 5
    },
    {
     "cell_type": "markdown",
     "metadata": {},
     "source": [
      "But what happens with exponents?"
     ]
    },
    {
     "cell_type": "code",
     "collapsed": false,
     "input": [
      "print(df ** df3)\n",
      "print(type(df.ix[0,0]))"
     ],
     "language": "python",
     "metadata": {},
     "outputs": [
      {
       "output_type": "stream",
       "stream": "stdout",
       "text": [
        "                     0                    1                    2  \\\n",
        "a           2176782336 -9223372036854775808 -9223372036854775808   \n",
        "b -9223372036854775808 -9223372036854775808                    1   \n",
        "c -9223372036854775808 -9223372036854775808 -9223372036854775808   \n",
        "d -9223372036854775808 -9223372036854775808 -9223372036854775808   \n",
        "e -9223372036854775808 -9223372036854775808 -9223372036854775808   \n",
        "f -9223372036854775808 -9223372036854775808 -9223372036854775808   \n",
        "g -9223372036854775808 -9223372036854775808 -9223372036854775808   \n",
        "h                   16 -9223372036854775808 -9223372036854775808   \n",
        "\n",
        "                     3                    4                    5  \\\n",
        "a -9223372036854775808 -9223372036854775808 -9223372036854775808   \n",
        "b -9223372036854775808 -9223372036854775808 -9223372036854775808   \n",
        "c -9223372036854775808 -9223372036854775808 -9223372036854775808   \n",
        "d -9223372036854775808 -9223372036854775808 -9223372036854775808   \n",
        "e -9223372036854775808 -9223372036854775808 -9223372036854775808   \n",
        "f -9223372036854775808                  729 -9223372036854775808   \n",
        "g -9223372036854775808 -9223372036854775808 -9223372036854775808   \n",
        "h -9223372036854775808 -9223372036854775808 -9223372036854775808   \n",
        "\n",
        "                     6                    7  \n",
        "a -9223372036854775808 -9223372036854775808  \n",
        "b -9223372036854775808 -9223372036854775808  \n",
        "c -9223372036854775808 -9223372036854775808  \n",
        "d -9223372036854775808 -9223372036854775808  \n",
        "e -9223372036854775808 -9223372036854775808  \n",
        "f -9223372036854775808 -9223372036854775808  \n",
        "g -9223372036854775808                   16  \n",
        "h -9223372036854775808                    1  \n",
        "\n",
        "[8 rows x 8 columns]\n",
        "<class 'numpy.int64'>\n"
       ]
      }
     ],
     "prompt_number": 6
    },
    {
     "cell_type": "markdown",
     "metadata": {},
     "source": [
      "The problem is that we have reached the limit of the numpy.int64 object.  We can get a larger range of number if we switch to the numpy.float64 object type.<br>\n",
      "Note, if you have a Unix based system, then you can also use the numpy.float128 type.  As far as I know, this is not available on Windows systems."
     ]
    },
    {
     "cell_type": "code",
     "collapsed": true,
     "input": [
      "df_exp = np.float64(df) ** df3 #Notice that we only need to invoke float64 on one of the objects and it affects our answer.\n",
      "print(df_exp)\n",
      "# and to check and make sure our answers are correct:\n",
      "for x in range(8):\n",
      "    for y in range(8):\n",
      "        print(np.float64(df.ix[x, y]) ** df3.ix[x, y] == df_exp.ix[x, y])"
     ],
     "language": "python",
     "metadata": {},
     "outputs": [
      {
       "output_type": "stream",
       "stream": "stdout",
       "text": [
        "               0              1              2              3              4  \\\n",
        "a   2.176782e+09   7.949685e+25            inf  1.267767e+124            inf   \n",
        "b            inf  1.131827e+112   1.000000e+00   1.778851e+66  2.913049e+178   \n",
        "c   4.239116e+88   1.966271e+77  9.412836e+152   1.234767e+32   1.966271e+77   \n",
        "d  1.805384e+222  5.210858e+226   2.135987e+96  7.650081e+285            inf   \n",
        "e   7.888609e+69  5.210858e+226            inf  6.460109e+217            inf   \n",
        "f   1.234767e+32  5.932561e+182  1.468108e+295  4.357284e+165   7.290000e+02   \n",
        "g            inf  1.816308e+281  3.611164e+204            inf            inf   \n",
        "h   1.600000e+01  1.461502e+128  1.666940e+100  4.943375e+244   2.913567e+92   \n",
        "\n",
        "               5              6              7  \n",
        "a   3.789781e+73            inf   3.914144e+48  \n",
        "b            inf  1.157586e+120  1.552518e+231  \n",
        "c  1.666940e+100  1.552518e+231            inf  \n",
        "d  4.357284e+165            inf            inf  \n",
        "e            inf  1.478201e+200  4.357284e+165  \n",
        "f   3.789781e+73            inf  5.210858e+226  \n",
        "g  1.215523e+108  3.008065e+140   1.600000e+01  \n",
        "h   1.000000e+20   1.099512e+52   1.000000e+00  \n",
        "\n",
        "[8 rows x 8 columns]\n",
        "True\n",
        "True\n",
        "True\n",
        "True\n",
        "True\n",
        "True\n",
        "True\n",
        "True\n",
        "True\n",
        "True\n",
        "True\n",
        "True\n",
        "True\n",
        "True\n",
        "True\n",
        "True\n",
        "True\n",
        "True\n",
        "True\n",
        "True\n",
        "True\n",
        "True\n",
        "True\n",
        "True\n",
        "True\n",
        "True\n",
        "True\n",
        "True\n",
        "True\n",
        "True\n",
        "True\n",
        "True\n",
        "True\n",
        "True\n",
        "True\n",
        "True\n",
        "True\n",
        "True\n",
        "True\n",
        "True\n",
        "True\n",
        "True\n",
        "True\n",
        "True\n",
        "True\n",
        "True\n",
        "True\n",
        "True\n",
        "True\n",
        "True\n",
        "True\n",
        "True\n",
        "True\n",
        "True\n",
        "True\n",
        "True\n",
        "True\n",
        "True\n",
        "True\n",
        "True\n",
        "True\n",
        "True\n",
        "True\n",
        "True\n"
       ]
      }
     ],
     "prompt_number": 7
    },
    {
     "cell_type": "markdown",
     "metadata": {},
     "source": [
      "If we want to apply a function to each column of a DataFrame, we can simply call the method.<br>\n",
      "If, however, we want to apply it row-wise, we need to call the apply method on the df."
     ]
    },
    {
     "cell_type": "code",
     "collapsed": false,
     "input": [
      "print(np.mean(df)) #This applies column-wise.\n",
      "print('Vectorized function takes %s seconds' % timeit('np.mean(df)', 'from __main__ import df, np', number = 1000))\n",
      "print(df.apply(np.mean, axis = 1)) #This applies the function row-wise.\n",
      "print('Apply method takes %s seconds' % timeit('df.apply(np.mean, axis = 1)', 'from __main__ import df, np', number = 1000))"
     ],
     "language": "python",
     "metadata": {},
     "outputs": [
      {
       "output_type": "stream",
       "stream": "stdout",
       "text": [
        "0    39.625\n",
        "1    46.125\n",
        "2    53.000\n",
        "3    52.875\n",
        "4    59.125\n",
        "5    45.500\n",
        "6    61.875\n",
        "7    47.375\n",
        "dtype: float64\n",
        "Vectorized function takes 0.044632340999669395 seconds\n",
        "a    45.750\n",
        "b    50.625\n",
        "c    40.875\n",
        "d    68.625\n",
        "e    66.500\n",
        "f    47.500\n",
        "g    60.125\n",
        "h    25.500\n",
        "dtype: float64"
       ]
      },
      {
       "output_type": "stream",
       "stream": "stdout",
       "text": [
        "\n",
        "Apply method takes 0.6166446119996181 seconds"
       ]
      },
      {
       "output_type": "stream",
       "stream": "stdout",
       "text": [
        "\n"
       ]
      }
     ],
     "prompt_number": 8
    },
    {
     "cell_type": "markdown",
     "metadata": {},
     "source": [
      "Notice how much longer the apply method takes.  So, unless you really have to do things row-wise, simply vectorize your operations."
     ]
    },
    {
     "cell_type": "markdown",
     "metadata": {},
     "source": [
      "You can also apply a Pandas Series (or even scalar values) to a DataFrame element-wise."
     ]
    },
    {
     "cell_type": "code",
     "collapsed": false,
     "input": [
      "s = pd.Series(np.random.randint(0, 8, size = 8))\n",
      "print(s)\n",
      "print(df)\n",
      "print(df * s) #notice this applies the Series row-wise, not column-wise.\n",
      "print(df * 5)"
     ],
     "language": "python",
     "metadata": {},
     "outputs": [
      {
       "output_type": "stream",
       "stream": "stdout",
       "text": [
        "0    0\n",
        "1    7\n",
        "2    2\n",
        "3    0\n",
        "4    2\n",
        "5    0\n",
        "6    7\n",
        "7    1\n",
        "dtype: int64\n",
        "    0   1   2   3   4   5   6   7\n",
        "a   6  12  81  39  93  26  90  19\n",
        "b  95  36   1  24  52  95  38  64\n",
        "c  30  27  46  14  27  33  64  86\n",
        "d  62  63  32  76  83  49  89  95\n",
        "e  25  63  95  61  92  90  57  49\n",
        "f  14  53  78  49   3  26  94  63\n",
        "g  83  75  58  93  92  35  43   2\n",
        "h   2  40  33  67  31  10  20   1\n",
        "\n",
        "[8 rows x 8 columns]\n",
        "   0    1    2  3    4  5    6   7\n",
        "a  0   84  162  0  186  0  630  19\n",
        "b  0  252    2  0  104  0  266  64\n",
        "c  0  189   92  0   54  0  448  86\n",
        "d  0  441   64  0  166  0  623  95\n",
        "e  0  441  190  0  184  0  399  49\n",
        "f  0  371  156  0    6  0  658  63\n",
        "g  0  525  116  0  184  0  301   2\n",
        "h  0  280   66  0   62  0  140   1\n",
        "\n",
        "[8 rows x 8 columns]\n",
        "     0    1    2    3    4    5    6    7\n",
        "a   30   60  405  195  465  130  450   95\n",
        "b  475  180    5  120  260  475  190  320\n",
        "c  150  135  230   70  135  165  320  430\n",
        "d  310  315  160  380  415  245  445  475\n",
        "e  125  315  475  305  460  450  285  245\n",
        "f   70  265  390  245   15  130  470  315\n",
        "g  415  375  290  465  460  175  215   10\n",
        "h   10  200  165  335  155   50  100    5\n",
        "\n",
        "[8 rows x 8 columns]\n"
       ]
      }
     ],
     "prompt_number": 9
    },
    {
     "cell_type": "markdown",
     "metadata": {},
     "source": [
      "And notice what happens if your Series (or DataFrame) is a different size than your original."
     ]
    },
    {
     "cell_type": "code",
     "collapsed": false,
     "input": [
      "s2 = pd.Series(np.random.randint(0, 8, size = 3))\n",
      "print(s2)\n",
      "print(df)\n",
      "print(df * s2)"
     ],
     "language": "python",
     "metadata": {},
     "outputs": [
      {
       "output_type": "stream",
       "stream": "stdout",
       "text": [
        "0    5\n",
        "1    0\n",
        "2    3\n",
        "dtype: int64\n",
        "    0   1   2   3   4   5   6   7\n",
        "a   6  12  81  39  93  26  90  19\n",
        "b  95  36   1  24  52  95  38  64\n",
        "c  30  27  46  14  27  33  64  86\n",
        "d  62  63  32  76  83  49  89  95\n",
        "e  25  63  95  61  92  90  57  49\n",
        "f  14  53  78  49   3  26  94  63\n",
        "g  83  75  58  93  92  35  43   2\n",
        "h   2  40  33  67  31  10  20   1\n",
        "\n",
        "[8 rows x 8 columns]\n",
        "     0  1    2   3   4   5   6   7\n",
        "a   30  0  243 NaN NaN NaN NaN NaN\n",
        "b  475  0    3 NaN NaN NaN NaN NaN\n",
        "c  150  0  138 NaN NaN NaN NaN NaN\n",
        "d  310  0   96 NaN NaN NaN NaN NaN\n",
        "e  125  0  285 NaN NaN NaN NaN NaN\n",
        "f   70  0  234 NaN NaN NaN NaN NaN\n",
        "g  415  0  174 NaN NaN NaN NaN NaN\n",
        "h   10  0   99 NaN NaN NaN NaN NaN\n",
        "\n",
        "[8 rows x 8 columns]\n"
       ]
      }
     ],
     "prompt_number": 10
    },
    {
     "cell_type": "markdown",
     "metadata": {},
     "source": [
      "Now that you have an idea of how vectorization works, it's your turn.<br>\n",
      "Create two 20x20 DataFrames and fill them with random integers between 0 and 50.<br>\n",
      "Now find the differences in the means of the rows of the DataFrames.  So you should print out a Series that shows, e.g., the mean values of row 1 of DataFrame 1 minus the mean of the values of row 1 of DataFrame 2.  The Series should be 20 elements long."
     ]
    },
    {
     "cell_type": "code",
     "collapsed": false,
     "input": [
      "#Insert your code here"
     ],
     "language": "python",
     "metadata": {},
     "outputs": [],
     "prompt_number": 11
    },
    {
     "cell_type": "markdown",
     "metadata": {},
     "source": [
      "For your week 5 homework, you constructed a term-document matrix for several books.  I want you to take this term-document matrix (__NOT THE TF-IDF MATRIX__) and perform the following statistical operation on it:<br>\n",
      "Calculate the probability (p) of each term within each document.  In this case, p = c/N, where c == the number of times the word occurs in the text and N == the total number of words in the text.  Your result should be a matrix of the same size as the original term-document matrix."
     ]
    },
    {
     "cell_type": "code",
     "collapsed": false,
     "input": [
      "#Insert your code here."
     ],
     "language": "python",
     "metadata": {},
     "outputs": [],
     "prompt_number": 12
    },
    {
     "cell_type": "markdown",
     "metadata": {},
     "source": [
      "For your week 6 homework, you calculated a co-occurrence matrix for several of the above-mentioned texts.  Now I want you to use these matrices along with the term-document matrices mentioned above to calculate the probability (p2) that two words co-occur given that the target word occurs.<br>\n",
      "In this case, p2 = c12/c1, where c12 == the number of co-occurrences of word1 with word 2 and c1 == the number of times that word1 (the target word) occurs.  The result should be a matrix for each document of the same size as the original matrix.<br>\n",
      "Your code should also produce output files that I can produce myself and check.  Don't worry about pushing your output files to Github.  If your code works, I should be able to reproduce them myself.<br>\n",
      "__NB: I expect this to be difficult.  Make sure that you look at your results to make sure that they make sense.  E.g., if you get values here (or in the previous activity) that are more than 1.0 or less than 0.0, something is wrong.  Figure out what.__"
     ]
    },
    {
     "cell_type": "code",
     "collapsed": false,
     "input": [
      "#Insert your code here."
     ],
     "language": "python",
     "metadata": {},
     "outputs": [],
     "prompt_number": 13
    }
   ],
   "metadata": {}
  }
 ]
}