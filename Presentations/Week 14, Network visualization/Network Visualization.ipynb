{
 "metadata": {
  "name": ""
 },
 "nbformat": 3,
 "nbformat_minor": 0,
 "worksheets": [
  {
   "cells": [
    {
     "cell_type": "heading",
     "level": 1,
     "metadata": {},
     "source": [
      "Network Visualization"
     ]
    },
    {
     "cell_type": "heading",
     "level": 2,
     "metadata": {},
     "source": [
      "Getting networks from texts"
     ]
    },
    {
     "cell_type": "markdown",
     "metadata": {},
     "source": [
      "When using networks visualization for text analysis, the first step is to get a network from texts. This will not be covered here in detail, but I will outline some basic ideas.\n",
      "\n",
      "The easiest way of getting a network from a text is a \u201ccooccurrence network\u201d. It uses words as nodes in the network and adds edges between nodes for all word cooccurrences. The edges can be weighted by log-likelihood. When creating the network, one will likely apply some sort of generalization, e.g. stemming or lemmatization, and some sort of filtering, e.g. by part of speech or using a stopword list.\n",
      "\n",
      "Using pseudocode, the idea looks mainly like this (for sentence cooccurrences):\n",
      "\n",
      "```python\n",
      "graph = Graph()\n",
      "for sentence in sentences:\n",
      "    words = [generalize(word) for word in sentence.words if filter(word)]\n",
      "    for a, b in combinations(words, 2):\n",
      "        edge = graph.find_edge(a, b)\n",
      "        if edge:\n",
      "            edge['weight'] += 1\n",
      "        else:\n",
      "            graph.add_edge(a, b, weight=1)\n",
      "```\n",
      "\n",
      "In this example, the edge weight is the number of cooccurrences. In a second step, loglikelihood can be calculated from this information."
     ]
    },
    {
     "cell_type": "markdown",
     "metadata": {},
     "source": [
      "In this session, we will use a prepared graph. It is from the Mah\u0101bh\u0101rata, and ancient Indian epic, writing in Sanskrit and one of the central texts of Hinduism."
     ]
    },
    {
     "cell_type": "code",
     "collapsed": false,
     "input": [
      "from igraph import *\n",
      "g = load(\"chap01-001.graphml\")\n",
      "summary(g)"
     ],
     "language": "python",
     "metadata": {},
     "outputs": [
      {
       "output_type": "stream",
       "stream": "stdout",
       "text": [
        "IGRAPH U-WT 1473 6864 -- \n",
        "+ attr: id (v), label (v), type (v), id (e), weight (e)\n"
       ]
      }
     ],
     "prompt_number": 1
    },
    {
     "cell_type": "markdown",
     "metadata": {},
     "source": [
      "So how can we use the cooccurrence network to learn more about the text? Of course by visualizing it."
     ]
    },
    {
     "cell_type": "code",
     "collapsed": false,
     "input": [
      "bbox = (1200, 1200)\n",
      "plot(g, bbox=bbox, target='plot.svg')"
     ],
     "language": "python",
     "metadata": {},
     "outputs": [],
     "prompt_number": 2
    },
    {
     "cell_type": "markdown",
     "metadata": {},
     "source": [
      "Now since the network contains almost 1500 nodes and 7000 eges, it is hardly possible to see anything from this. An alternative is to look for information programmatically. So we can look for nodes with the hightes degree, i.e., the highest number of connected nodes:"
     ]
    },
    {
     "cell_type": "code",
     "collapsed": false,
     "input": [
      "from collections import Counter\n",
      "names_by_degree = Counter(dict(zip(g.vs['label'], g.degree())))\n",
      "names_by_degree.most_common(10)"
     ],
     "language": "python",
     "metadata": {},
     "outputs": [
      {
       "metadata": {},
       "output_type": "pyout",
       "prompt_number": 3,
       "text": [
        "[('\u015bru', 366),\n",
        " ('sa\u1e43jaya', 201),\n",
        " ('\u0101\u015ba\u1e43s', 187),\n",
        " ('vijaya', 187),\n",
        " ('putra', 118),\n",
        " ('loka', 115),\n",
        " ('dharma', 111),\n",
        " ('arjuna', 95),\n",
        " ('veda', 80),\n",
        " ('bh\u0101rata', 76)]"
       ]
      }
     ],
     "prompt_number": 3
    },
    {
     "cell_type": "markdown",
     "metadata": {},
     "source": [
      "But this way, the relational information gets lost, which is one of the main advantages of using network visualization. In the following, we will use a small part of the network to discuss some main principles of network visualization, and then turn to problems of visualizing large networks.\n",
      "\n",
      "First, we will look for the cooccurrence network of a specific term, \u201cdharma\u201d:"
     ]
    },
    {
     "cell_type": "code",
     "collapsed": false,
     "input": [
      "node = g.vs.find(label='dharma')\n",
      "g_dharma = g.subgraph(node.neighbors())\n",
      "summary(g_dharma)"
     ],
     "language": "python",
     "metadata": {},
     "outputs": [
      {
       "output_type": "stream",
       "stream": "stdout",
       "text": [
        "IGRAPH U-WT 111 431 -- \n",
        "+ attr: id (v), label (v), type (v), id (e), weight (e)\n"
       ]
      }
     ],
     "prompt_number": 4
    },
    {
     "cell_type": "heading",
     "level": 2,
     "metadata": {},
     "source": [
      "Network Visualization"
     ]
    },
    {
     "cell_type": "markdown",
     "metadata": {},
     "source": [
      "Now what are basic principles of network visualization?"
     ]
    },
    {
     "cell_type": "heading",
     "level": 3,
     "metadata": {},
     "source": [
      "Layout"
     ]
    },
    {
     "cell_type": "markdown",
     "metadata": {},
     "source": [
      "When plotting a network, one has to choose where to place the nodes. There is a variety of possibilities to do so:"
     ]
    },
    {
     "cell_type": "code",
     "collapsed": false,
     "input": [
      "for layout_algo in ('random', 'circle', 'fruchterman_reingold'):\n",
      "    layout = g_dharma.layout(layout_algo)\n",
      "    plot(g_dharma, layout=layout, bbox=bbox, target='plot_' + layout_algo + '.svg')"
     ],
     "language": "python",
     "metadata": {},
     "outputs": [],
     "prompt_number": 5
    },
    {
     "cell_type": "markdown",
     "metadata": {},
     "source": [
      "For standard layouts, the main principles are these:\n",
      "\n",
      "* the geometric distance between nodes in the plot should be aproximately proportional to the geodesic distance, i.e. the number of steps in the path between the two nodes.\n",
      "* When possible, edges should not cross.\n",
      "\n",
      "The currently most frequently applied principle to generate layouts that fulfil these requirements are physics simulations based on what is called a \u201cspring embedder model\u201d. In all its variants, it is based on the central model that nodes push each other away, while edges draw nodes towards each other, like a spring.\n",
      "\n",
      "These layouts thus are iteratively, they start with a random layout and then recalculate the layout for a given number of steps."
     ]
    },
    {
     "cell_type": "heading",
     "level": 3,
     "metadata": {},
     "source": [
      "Properties"
     ]
    },
    {
     "cell_type": "markdown",
     "metadata": {},
     "source": [
      "In addition to the layout itself, network visualizations allow to include additional information about the network into a single plot, making it a good source for visual interpretation by humans.\n",
      "\n",
      "**Question:** Which information about the graph would you include into the network?\n",
      "\n",
      "These might include:\n",
      "\n",
      "* Part-of-speech\n",
      "* Centrality (degree, i.e., number of connections)\n",
      "* Edge weight\n",
      "\n",
      "**Question:** What possibilities do we have to add information into the network visualization?\n",
      "\n",
      "* Node size\n",
      "* Edge width\n",
      "* Node shape\n",
      "* Node color\n",
      "* Edge color\n",
      "\n",
      "**Question:** Which plotting method is good to visualize which property?\n",
      "\n",
      "* Size (node size, edge width): Good for metrical properties (edge weight, node centrality).\n",
      "* Shape: Good for categorial properties (word class).\n",
      "* Color: Good for both (gradiant vs. distinct colors)."
     ]
    },
    {
     "cell_type": "code",
     "collapsed": false,
     "input": [
      "import numpy as np\n",
      "def normalize(seq):\n",
      "    seq = np.array(seq)\n",
      "    try:\n",
      "        return (seq - min(seq)) / (max(seq) - min(seq))\n",
      "    except ZeroDivisionError:\n",
      "        return [.5] * len(seq)"
     ],
     "language": "python",
     "metadata": {},
     "outputs": [],
     "prompt_number": 6
    },
    {
     "cell_type": "code",
     "collapsed": false,
     "input": [
      "degree = g_dharma.degree()\n",
      "shape_map = {'noun': 'square', 'verb': 'triangle', 'adjective': 'circle'}\n",
      "shape = [shape_map[pos] for pos in g_dharma.vs['type']]\n",
      "width = normalize(g_dharma.es['weight']) * 19 + 1\n",
      "size = normalize(degree) * 25 + 5\n",
      "plot(g_dharma, layout=layout,\n",
      "               bbox=bbox,\n",
      "               target='plot_properties.svg',\n",
      "               vertex_size=size,\n",
      "               vertex_shape=shape,\n",
      "               edge_width=width,\n",
      "               )"
     ],
     "language": "python",
     "metadata": {},
     "outputs": [
      {
       "metadata": {},
       "output_type": "pyout",
       "prompt_number": 7,
       "text": [
        "<igraph.drawing.Plot at 0x7f7070d55e80>"
       ]
      }
     ],
     "prompt_number": 7
    },
    {
     "cell_type": "heading",
     "level": 3,
     "metadata": {},
     "source": [
      "Detecting structures"
     ]
    },
    {
     "cell_type": "markdown",
     "metadata": {},
     "source": [
      "This visualization makes basic structures of the network topology visible. But there are also more subtile structures that we can visualize. E.g., when analyzing term context networks, we might want to find semantic clusters. These are areas in the network with higher connection density. In network analysis, finding these clusters is called \u201ccommunity detection\u201d. There are several algorithms that allow to find communities, but most of the recent ones are based on the work of Girvan and Newman (2002)."
     ]
    },
    {
     "cell_type": "code",
     "collapsed": false,
     "input": [
      "communities = g_dharma.community_multilevel()\n",
      "print(communities)"
     ],
     "language": "python",
     "metadata": {},
     "outputs": [
      {
       "output_type": "stream",
       "stream": "stdout",
       "text": [
        "Clustering with 111 elements and 10 clusters\n",
        "[ 0] 47\n",
        "[ 1] 10, 12, 13, 14, 24, 25, 32, 33, 34, 37, 38, 39, 42, 43, 44, 45, 46, 50,\n",
        "     57, 58, 59, 65, 107, 108, 109, 110\n",
        "[ 2] 51, 52, 53, 54, 55, 56, 68, 69, 70, 71, 82\n",
        "[ 3] 15, 18, 19, 40, 49, 66, 73, 74, 75\n",
        "[ 4] 1, 2, 3, 4, 5, 6, 7, 8, 9, 26, 27, 60, 67, 72, 77, 78, 79, 80\n",
        "[ 5] 28, 30, 36, 81, 84, 85, 86, 87, 88\n",
        "[ 6] 11, 17, 20, 21, 22, 23, 29, 31, 61, 62, 64, 83, 90, 92, 93, 96, 97, 98\n",
        "[ 7] 16, 35, 76, 89, 94, 95, 99, 100, 101\n",
        "[ 8] 0, 41, 63, 102, 103, 104\n",
        "[ 9] 48, 91, 105, 106\n"
       ]
      }
     ],
     "prompt_number": 8
    },
    {
     "cell_type": "markdown",
     "metadata": {},
     "source": [
      "Now we can add this information to the network plot."
     ]
    },
    {
     "cell_type": "code",
     "collapsed": false,
     "input": [
      "palette = RainbowPalette(len(communities))\n",
      "color = [palette.get(i) for i in communities.membership]\n",
      "plot(g_dharma, layout=layout,\n",
      "               bbox=bbox,\n",
      "               target='plot_communities.svg',\n",
      "               vertex_size=size,\n",
      "               vertex_shape=shape,\n",
      "               vertex_color=color,\n",
      "               edge_width=width,\n",
      "               )"
     ],
     "language": "python",
     "metadata": {},
     "outputs": [
      {
       "metadata": {},
       "output_type": "pyout",
       "prompt_number": 9,
       "text": [
        "<igraph.drawing.Plot at 0x7f708c4bf5f8>"
       ]
      }
     ],
     "prompt_number": 9
    },
    {
     "cell_type": "heading",
     "level": 2,
     "metadata": {},
     "source": [
      "Large Graphs"
     ]
    },
    {
     "cell_type": "markdown",
     "metadata": {},
     "source": [
      "Plotting a network of this size does not really work. It results in the well-known \u201chairball\u201d plots."
     ]
    },
    {
     "cell_type": "markdown",
     "metadata": {},
     "source": [
      "The graph can contain several \u201ccomponents\u201d, i.e. unconnected subgraphs. Since many calculations do not work (or make sense) on unconnected graphs, and these are usualy less important outliers, only the largest, \u201cgiant\u201d component is used."
     ]
    },
    {
     "cell_type": "code",
     "collapsed": false,
     "input": [
      "components = g.clusters()\n",
      "g = components.giant()\n",
      "summary(g)"
     ],
     "language": "python",
     "metadata": {},
     "outputs": [
      {
       "output_type": "stream",
       "stream": "stdout",
       "text": [
        "IGRAPH U-WT 1415 6763 -- \n",
        "+ attr: id (v), label (v), type (v), id (e), weight (e)\n"
       ]
      }
     ],
     "prompt_number": 10
    },
    {
     "cell_type": "markdown",
     "metadata": {},
     "source": [
      "It would be helpful to disentangle the graph, making the internal structure more visible. The community structure of the graph can be used to re-position the nodes of the large graph."
     ]
    },
    {
     "cell_type": "code",
     "collapsed": false,
     "input": [
      "communities = g.community_multilevel()"
     ],
     "language": "python",
     "metadata": {},
     "outputs": [],
     "prompt_number": 11
    },
    {
     "cell_type": "markdown",
     "metadata": {},
     "source": [
      "A strategy for plotting a graph can be to plot it in a way that visualizes the community structure. This means that nodes belonging to the same community should be plotted close to each other, and in distance from other nodes.\n",
      "\n",
      "**Question:** How could one implement such a layout algorithm?\n",
      "\n",
      "**Hint:** There is a method that creates a graph that merges all nodes from a community, resulting in a higher-level community graph."
     ]
    },
    {
     "cell_type": "code",
     "collapsed": false,
     "input": [
      "contracted_graph = communities.cluster_graph()\n",
      "outer_layout = contracted_graph.layout('auto')\n",
      "outer_layout.scale(contracted_graph.vcount())"
     ],
     "language": "python",
     "metadata": {},
     "outputs": [],
     "prompt_number": 12
    },
    {
     "cell_type": "code",
     "collapsed": false,
     "input": [
      "plot(contracted_graph, layout=outer_layout, bbox=bbox, target='plot_outer.svg')"
     ],
     "language": "python",
     "metadata": {},
     "outputs": [
      {
       "metadata": {},
       "output_type": "pyout",
       "prompt_number": 13,
       "text": [
        "<igraph.drawing.Plot at 0x7f707344ff98>"
       ]
      }
     ],
     "prompt_number": 13
    },
    {
     "cell_type": "code",
     "collapsed": false,
     "input": [
      "outer_box = outer_layout.bounding_box()\n",
      "from math import sqrt\n",
      "r = sqrt(sum(outer_box.shape)/2)"
     ],
     "language": "python",
     "metadata": {},
     "outputs": [],
     "prompt_number": 14
    },
    {
     "cell_type": "code",
     "collapsed": false,
     "input": [
      "inner_layout = Layout([(0, 0) for _ in range(g.vcount())])\n",
      "for comm, vertices in enumerate(communities):\n",
      "    print('Plotting layout for community {} ...'.format(comm))\n",
      "    comm_graph = g.induced_subgraph(vertices)\n",
      "    comm_layout = g.layout('fruchterman_reingold')\n",
      "    #comm_layout = g.layout('random')\n",
      "    cx, cy = outer_layout[comm]\n",
      "    inner_box = (cx-r, cy-r, cx+r, cy+r)\n",
      "    comm_layout.fit_into(inner_box)\n",
      "    for vertex, coords in zip(vertices, comm_layout):\n",
      "        inner_layout[vertex] = coords"
     ],
     "language": "python",
     "metadata": {},
     "outputs": [
      {
       "output_type": "stream",
       "stream": "stdout",
       "text": [
        "Plotting layout for community 0 ...\n",
        "Plotting layout for community 1 ...\n",
        "Plotting layout for community 2 ...\n",
        "Plotting layout for community 3 ..."
       ]
      },
      {
       "output_type": "stream",
       "stream": "stdout",
       "text": [
        "\n",
        "Plotting layout for community 4 ...\n",
        "Plotting layout for community 5 ...\n",
        "Plotting layout for community 6 ...\n",
        "Plotting layout for community 7 ...\n",
        "Plotting layout for community 8 ...\n",
        "Plotting layout for community 9 ...\n",
        "Plotting layout for community 10 ...\n",
        "Plotting layout for community 11 ...\n",
        "Plotting layout for community 12 ..."
       ]
      },
      {
       "output_type": "stream",
       "stream": "stdout",
       "text": [
        "\n",
        "Plotting layout for community 13 ...\n",
        "Plotting layout for community 14 ...\n"
       ]
      }
     ],
     "prompt_number": 15
    },
    {
     "cell_type": "code",
     "collapsed": false,
     "input": [
      "degree = g.degree()\n",
      "shape = [shape_map[pos] for pos in g.vs['type']]\n",
      "width = normalize(g.es['weight']) * 38 + 2\n",
      "size = normalize(degree) * 50 + 10\n",
      "palette = RainbowPalette(len(communities))\n",
      "color = [palette.get(i) for i in communities.membership]\n",
      "plot(g, layout=inner_layout,\n",
      "        bbox=(2400, 2400),\n",
      "        target='plot_large.svg',\n",
      "        vertex_size=size,\n",
      "        vertex_shape=shape,\n",
      "        vertex_color=color,\n",
      "        edge_width=width,\n",
      "        )"
     ],
     "language": "python",
     "metadata": {},
     "outputs": [
      {
       "metadata": {},
       "output_type": "pyout",
       "prompt_number": 16,
       "text": [
        "<igraph.drawing.Plot at 0x7f708e4d9c50>"
       ]
      }
     ],
     "prompt_number": 16
    },
    {
     "cell_type": "code",
     "collapsed": false,
     "input": [
      "g.vs[\"community\"] = [str(m) for m in communities.membership]  # Trick gephi\n",
      "for vertex, coords in enumerate(inner_layout):\n",
      "    x, y = coords\n",
      "    g.vs[vertex][\"x\"], g.vs[vertex][\"y\"] = x * 100, -y * 100  # Gephi uses flipped Y coordinate\n",
      "save(g, \"chap01-001-layout.graphml\")"
     ],
     "language": "python",
     "metadata": {},
     "outputs": [],
     "prompt_number": 17
    }
   ],
   "metadata": {}
  }
 ]
}